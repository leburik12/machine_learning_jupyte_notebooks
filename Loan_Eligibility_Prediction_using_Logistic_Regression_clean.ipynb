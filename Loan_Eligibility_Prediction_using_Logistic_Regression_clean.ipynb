{
  "nbformat": 4,
  "nbformat_minor": 0,
  "metadata": {
    "colab": {
      "provenance": [],
      "authorship_tag": "ABX9TyO9KY7oR7kvesRYvZrtIN6o",
      "include_colab_link": true
    },
    "kernelspec": {
      "name": "python3",
      "display_name": "Python 3"
    },
    "language_info": {
      "name": "python"
    }
  },
  "cells": [
    {
      "cell_type": "markdown",
      "metadata": {
        "id": "view-in-github",
        "colab_type": "text"
      },
      "source": [
        "<a href=\"https://colab.research.google.com/github/leburik12/machine_learning_jupyte_notebooks/blob/main/Loan_Eligibility_Prediction_using_Logistic_Regression_clean.ipynb\" target=\"_parent\"><img src=\"https://colab.research.google.com/assets/colab-badge.svg\" alt=\"Open In Colab\"/></a>"
      ]
    },
    {
      "cell_type": "code",
      "execution_count": 16,
      "metadata": {
        "colab": {
          "base_uri": "https://localhost:8080/"
        },
        "id": "eRDziTs1xmxu",
        "outputId": "85e9c4a2-45c3-492b-ae3f-c7b327c89062"
      },
      "outputs": [
        {
          "output_type": "stream",
          "name": "stdout",
          "text": [
            "Drive already mounted at /content/drive; to attempt to forcibly remount, call drive.mount(\"/content/drive\", force_remount=True).\n"
          ]
        }
      ],
      "source": [
        "import pandas as pd\n",
        "import numpy as np\n",
        "from sklearn.preprocessing import LabelEncoder, StandardScaler, RobustScaler\n",
        "from sklearn.model_selection import train_test_split\n",
        "import seaborn as sns\n",
        "import matplotlib.pyplot as plt\n",
        "from sklearn.tree import DecisionTreeClassifier\n",
        "from sklearn.ensemble import RandomForestClassifier\n",
        "\n",
        "# Mount Google Drive and load dataset\n",
        "from google.colab import drive\n",
        "drive.mount('/content/drive')\n",
        "file_path = '/content/drive/MyDrive/ml_data/loan-test.csv'\n",
        "df = pd.read_csv(file_path)"
      ]
    },
    {
      "cell_type": "code",
      "source": [
        "# Impute Loan_Amount_Term with mode (most common value = 360.0)\n",
        "df['Loan_Amount_Term'] = df['Loan_Amount_Term'].fillna(df['Loan_Amount_Term'].mode()[0])\n",
        "\n",
        "# Impute LoanAmount with median (robust to outliers)\n",
        "median_load_amount = df['LoanAmount'].median()\n",
        "df['LoanAmount'] = df['LoanAmount'].fillna(median_load_amount)\n",
        "\n",
        "# Impute Dependents (categorical) by sampling from observed distribution\n",
        "dependents_dist = df['Dependents'].dropna().value_counts(normalize=True)\n",
        "missing_dep = df[df['Dependents'].isna()].index\n",
        "df.loc[missing_dep, 'Dependents'] = np.random.choice(dependents_dist.index, size=len(missing_dep), p=dependents_dist.values)\n",
        "\n",
        "# Impute Gender\n",
        "gender_dist = df['Gender'].dropna().value_counts(normalize=True)\n",
        "missing_gender = df[df['Gender'].isna()].index\n",
        "df.loc[missing_gender, 'Gender'] = np.random.choice(gender_dist.index, size=len(missing_gender), p=gender_dist.values)\n",
        "\n",
        "# Impute Self_Employed\n",
        "self_emp_dist = df['Self_Employed'].dropna().value_counts(normalize=True)\n",
        "missing_self_emp = df[df['Self_Employed'].isna()].index\n",
        "df.loc[missing_self_emp, 'Self_Employed'] = np.random.choice(self_emp_dist.index, size=len(missing_self_emp), p=self_emp_dist.values)\n",
        "\n",
        "# Impute Credit_History\n",
        "credit_dist = df['Credit_History'].dropna().value_counts(normalize=True)\n",
        "missing_credit = df[df['Credit_History'].isna()].index\n",
        "df.loc[missing_credit, 'Credit_History'] = np.random.choice(credit_dist.index, size=len(missing_credit), p=credit_dist.values)\n",
        "\n",
        "# Impute Loan_Status\n",
        "loan_status_dist = df['Loan_Status'].dropna().value_counts(normalize=True)\n",
        "missing_status = df[df['Loan_Status'].isna()].index\n",
        "df.loc[missing_status, 'Loan_Status'] = np.random.choice(loan_status_dist.index, size=len(missing_status), p=loan_status_dist.values)\n"
      ],
      "metadata": {
        "id": "yYPm8ew0xnZX"
      },
      "execution_count": 17,
      "outputs": []
    },
    {
      "cell_type": "code",
      "source": [
        "# Label encode binary columns\n",
        "labelencoder = LabelEncoder()\n",
        "binary_cols = ['Gender', 'Married', 'Education', 'Self_Employed']\n",
        "for col in binary_cols:\n",
        "    df[col] = labelencoder.fit_transform(df[col])"
      ],
      "metadata": {
        "id": "fzNG-zpSxpl6"
      },
      "execution_count": 18,
      "outputs": []
    },
    {
      "cell_type": "code",
      "source": [
        "# One-hot encode Property_Area\n",
        "df_dummies = pd.get_dummies(df, columns=['Property_Area'], prefix='PropArea')\n",
        "# Convert boolean columns to 0/1\n",
        "for col in df_dummies.columns:\n",
        "    if df_dummies[col].dtype == bool:\n",
        "        df_dummies[col] = df_dummies[col].astype(int)"
      ],
      "metadata": {
        "id": "Ni5ixvSOxymS"
      },
      "execution_count": 19,
      "outputs": []
    },
    {
      "cell_type": "code",
      "source": [
        "# Use RobustScaler to handle skewness/outliers\n",
        "scaler = RobustScaler()\n",
        "numeric_cols = ['ApplicantIncome', 'CoapplicantIncome', 'LoanAmount']\n",
        "df_dummies[numeric_cols] = scaler.fit_transform(df_dummies[numeric_cols])"
      ],
      "metadata": {
        "id": "mxaGx6kvyijO"
      },
      "execution_count": 20,
      "outputs": []
    },
    {
      "cell_type": "code",
      "source": [
        "# Fix Dependents: convert '3+' to 3\n",
        "df_dummies['Dependents'] = df_dummies['Dependents'].replace('3+', 3).astype(float)"
      ],
      "metadata": {
        "id": "dgEOv0m8ysgT"
      },
      "execution_count": 21,
      "outputs": []
    },
    {
      "cell_type": "code",
      "source": [
        "def split_data(df, target='Loan_Status', test_size=0.2, random_state=42):\n",
        "    X = df.drop(columns=[target, 'Loan_ID'])\n",
        "    y = df[target]\n",
        "    return train_test_split(X, y, test_size=test_size, random_state=random_state, stratify=y)\n",
        "\n",
        "X_train, X_test, y_train, y_test = split_data(df_dummies)"
      ],
      "metadata": {
        "id": "e2n4LptyyuYL"
      },
      "execution_count": 22,
      "outputs": []
    },
    {
      "cell_type": "code",
      "source": [
        "from sklearn.linear_model import LogisticRegression\n",
        "from sklearn.metrics import accuracy_score, precision_score, recall_score, f1_score\n",
        "\n",
        "# Base Logistic Regression\n",
        "log_regression = LogisticRegression(max_iter=1000, random_state=42)\n",
        "log_regression.fit(X_train, y_train)\n",
        "y_pred = log_regression.predict(X_test)\n",
        "\n",
        "# Evaluate\n",
        "accuracy  = accuracy_score(y_test, y_pred)\n",
        "precision = precision_score(y_test, y_pred)\n",
        "recall    = recall_score(y_test, y_pred)\n",
        "f1        = f1_score(y_test, y_pred)\n",
        "\n",
        "print(\" Logistic Regression Model Performance:\")\n",
        "print(f\" Accuracy : {accuracy:.4f}\")\n",
        "print(f\" Precision: {precision:.4f}\")\n",
        "print(f\" Recall   : {recall:.4f}\")\n",
        "print(f\" F1 Score : {f1:.4f}\")\n"
      ],
      "metadata": {
        "colab": {
          "base_uri": "https://localhost:8080/"
        },
        "id": "2kYQPKOpyvrj",
        "outputId": "ed64905c-be23-456d-e274-59645e54e060"
      },
      "execution_count": 23,
      "outputs": [
        {
          "output_type": "stream",
          "name": "stdout",
          "text": [
            " Logistic Regression Model Performance:\n",
            " Accuracy : 0.9865\n",
            " Precision: 1.0000\n",
            " Recall   : 0.9836\n",
            " F1 Score : 0.9917\n"
          ]
        }
      ]
    },
    {
      "cell_type": "code",
      "source": [
        "# Initialize Decision Tree\n",
        "dt_model = DecisionTreeClassifier(random_state=42)\n",
        "\n",
        "\n",
        "# Fit on training data\n",
        "dt_model.fit(X_train, y_train)\n",
        "\n",
        "# Predict on test data\n",
        "y_pred_dt = dt_model.predict(X_test)\n",
        "\n",
        "# Evaluation\n",
        "accuracy_dt = accuracy_score(y_test, y_pred_dt)\n",
        "precision_dt = precision_score(y_test, y_pred_dt)\n",
        "recall_dt = recall_score(y_test, y_pred_dt)\n",
        "f1_dt = f1_score(y_test, y_pred_dt)\n",
        "\n",
        "print(\"🌳 Decision Tree Performance:\")\n",
        "print(f\" Accuracy : {accuracy_dt:.4f}\")\n",
        "print(f\" Precision: {precision_dt:.4f}\")\n",
        "print(f\" Recall   : {recall_dt:.4f}\")\n",
        "print(f\" F1 Score : {f1_dt:.4f}\")\n"
      ],
      "metadata": {
        "colab": {
          "base_uri": "https://localhost:8080/"
        },
        "id": "OJtq8HJtyx2a",
        "outputId": "664dc167-2b9e-44a8-c5ba-8a35347893c8"
      },
      "execution_count": 24,
      "outputs": [
        {
          "output_type": "stream",
          "name": "stdout",
          "text": [
            "🌳 Decision Tree Performance:\n",
            " Accuracy : 0.9595\n",
            " Precision: 0.9677\n",
            " Recall   : 0.9836\n",
            " F1 Score : 0.9756\n"
          ]
        }
      ]
    },
    {
      "cell_type": "code",
      "source": [
        "# Initialize Random Forest\n",
        "rf_model = RandomForestClassifier(n_estimators=100, random_state=42)\n",
        "\n",
        "# Fit on training data\n",
        "rf_model.fit(X_train, y_train)\n",
        "\n",
        "# Predict on test data\n",
        "y_pred_rf = rf_model.predict(X_test)\n",
        "\n",
        "# Evaluation\n",
        "accuracy_rf = accuracy_score(y_test, y_pred_rf)\n",
        "precision_rf = precision_score(y_test, y_pred_rf)\n",
        "recall_rf = recall_score(y_test, y_pred_rf)\n",
        "f1_rf = f1_score(y_test, y_pred_rf)\n",
        "\n",
        "print(\" Random Forest Performance:\")\n",
        "print(f\" Accuracy : {accuracy_rf:.4f}\")\n",
        "print(f\" Precision: {precision_rf:.4f}\")\n",
        "print(f\" Recall   : {recall_rf:.4f}\")\n",
        "print(f\" F1 Score : {f1_rf:.4f}\")"
      ],
      "metadata": {
        "colab": {
          "base_uri": "https://localhost:8080/"
        },
        "id": "o4-QZo7yz7ny",
        "outputId": "a0d08a67-61de-4bcd-90f7-812ddfbe8f9b"
      },
      "execution_count": 25,
      "outputs": [
        {
          "output_type": "stream",
          "name": "stdout",
          "text": [
            " Random Forest Performance:\n",
            " Accuracy : 0.9730\n",
            " Precision: 0.9836\n",
            " Recall   : 0.9836\n",
            " F1 Score : 0.9836\n"
          ]
        }
      ]
    },
    {
      "cell_type": "code",
      "source": [],
      "metadata": {
        "id": "Jz3_Asgs1ejM"
      },
      "execution_count": null,
      "outputs": []
    }
  ]
}